{
 "cells": [
  {
   "cell_type": "code",
   "execution_count": 1,
   "metadata": {},
   "outputs": [],
   "source": [
    "import pandas as pd"
   ]
  },
  {
   "cell_type": "code",
   "execution_count": 2,
   "metadata": {},
   "outputs": [],
   "source": [
    "df = pd.read_csv('Hotels_data_best_discount.csv')"
   ]
  },
  {
   "cell_type": "code",
   "execution_count": 3,
   "metadata": {},
   "outputs": [
    {
     "data": {
      "text/html": [
       "<div>\n",
       "<style scoped>\n",
       "    .dataframe tbody tr th:only-of-type {\n",
       "        vertical-align: middle;\n",
       "    }\n",
       "\n",
       "    .dataframe tbody tr th {\n",
       "        vertical-align: top;\n",
       "    }\n",
       "\n",
       "    .dataframe thead th {\n",
       "        text-align: right;\n",
       "    }\n",
       "</style>\n",
       "<table border=\"1\" class=\"dataframe\">\n",
       "  <thead>\n",
       "    <tr style=\"text-align: right;\">\n",
       "      <th></th>\n",
       "      <th>Unnamed: 0</th>\n",
       "      <th>Unnamed: 0.1</th>\n",
       "      <th>Snapshot ID</th>\n",
       "      <th>Snapshot Date</th>\n",
       "      <th>Checkin Date</th>\n",
       "      <th>Days</th>\n",
       "      <th>Original Price</th>\n",
       "      <th>Discount Price</th>\n",
       "      <th>Discount Code</th>\n",
       "      <th>Available Rooms</th>\n",
       "      <th>Hotel Name</th>\n",
       "      <th>Hotel Stars</th>\n",
       "      <th>DayDiff</th>\n",
       "      <th>WeekDay</th>\n",
       "      <th>DiscountDiff</th>\n",
       "      <th>DiscountPerc</th>\n",
       "    </tr>\n",
       "  </thead>\n",
       "  <tbody>\n",
       "    <tr>\n",
       "      <th>0</th>\n",
       "      <td>349</td>\n",
       "      <td>349</td>\n",
       "      <td>1</td>\n",
       "      <td>2015-07-17</td>\n",
       "      <td>2015-07-18</td>\n",
       "      <td>5</td>\n",
       "      <td>1395</td>\n",
       "      <td>1245</td>\n",
       "      <td>2</td>\n",
       "      <td>-1</td>\n",
       "      <td>Home2 Suites by Hilton NY Long Island City Man...</td>\n",
       "      <td>3</td>\n",
       "      <td>1</td>\n",
       "      <td>Saturday</td>\n",
       "      <td>150</td>\n",
       "      <td>10.752688</td>\n",
       "    </tr>\n",
       "    <tr>\n",
       "      <th>1</th>\n",
       "      <td>365</td>\n",
       "      <td>365</td>\n",
       "      <td>1</td>\n",
       "      <td>2015-07-17</td>\n",
       "      <td>2015-07-18</td>\n",
       "      <td>5</td>\n",
       "      <td>548</td>\n",
       "      <td>515</td>\n",
       "      <td>2</td>\n",
       "      <td>-1</td>\n",
       "      <td>Howard Johnson Inn Queens</td>\n",
       "      <td>2</td>\n",
       "      <td>1</td>\n",
       "      <td>Saturday</td>\n",
       "      <td>33</td>\n",
       "      <td>6.021898</td>\n",
       "    </tr>\n",
       "    <tr>\n",
       "      <th>2</th>\n",
       "      <td>329</td>\n",
       "      <td>329</td>\n",
       "      <td>1</td>\n",
       "      <td>2015-07-17</td>\n",
       "      <td>2015-07-18</td>\n",
       "      <td>5</td>\n",
       "      <td>1365</td>\n",
       "      <td>1185</td>\n",
       "      <td>2</td>\n",
       "      <td>-1</td>\n",
       "      <td>Newark Liberty International Airport Marriott</td>\n",
       "      <td>4</td>\n",
       "      <td>1</td>\n",
       "      <td>Saturday</td>\n",
       "      <td>180</td>\n",
       "      <td>13.186813</td>\n",
       "    </tr>\n",
       "    <tr>\n",
       "      <th>3</th>\n",
       "      <td>262</td>\n",
       "      <td>262</td>\n",
       "      <td>1</td>\n",
       "      <td>2015-07-17</td>\n",
       "      <td>2015-07-18</td>\n",
       "      <td>5</td>\n",
       "      <td>3700</td>\n",
       "      <td>3600</td>\n",
       "      <td>2</td>\n",
       "      <td>6</td>\n",
       "      <td>Park Hyatt New York</td>\n",
       "      <td>5</td>\n",
       "      <td>1</td>\n",
       "      <td>Saturday</td>\n",
       "      <td>100</td>\n",
       "      <td>2.702703</td>\n",
       "    </tr>\n",
       "    <tr>\n",
       "      <th>4</th>\n",
       "      <td>94</td>\n",
       "      <td>94</td>\n",
       "      <td>1</td>\n",
       "      <td>2015-07-17</td>\n",
       "      <td>2015-07-18</td>\n",
       "      <td>5</td>\n",
       "      <td>780</td>\n",
       "      <td>630</td>\n",
       "      <td>1</td>\n",
       "      <td>2</td>\n",
       "      <td>Ramada Staten Island</td>\n",
       "      <td>3</td>\n",
       "      <td>1</td>\n",
       "      <td>Saturday</td>\n",
       "      <td>150</td>\n",
       "      <td>19.230769</td>\n",
       "    </tr>\n",
       "  </tbody>\n",
       "</table>\n",
       "</div>"
      ],
      "text/plain": [
       "   Unnamed: 0  Unnamed: 0.1  Snapshot ID Snapshot Date Checkin Date  Days  \\\n",
       "0         349           349            1    2015-07-17   2015-07-18     5   \n",
       "1         365           365            1    2015-07-17   2015-07-18     5   \n",
       "2         329           329            1    2015-07-17   2015-07-18     5   \n",
       "3         262           262            1    2015-07-17   2015-07-18     5   \n",
       "4          94            94            1    2015-07-17   2015-07-18     5   \n",
       "\n",
       "   Original Price  Discount Price  Discount Code  Available Rooms  \\\n",
       "0            1395            1245              2               -1   \n",
       "1             548             515              2               -1   \n",
       "2            1365            1185              2               -1   \n",
       "3            3700            3600              2                6   \n",
       "4             780             630              1                2   \n",
       "\n",
       "                                          Hotel Name  Hotel Stars  DayDiff  \\\n",
       "0  Home2 Suites by Hilton NY Long Island City Man...            3        1   \n",
       "1                          Howard Johnson Inn Queens            2        1   \n",
       "2      Newark Liberty International Airport Marriott            4        1   \n",
       "3                                Park Hyatt New York            5        1   \n",
       "4                               Ramada Staten Island            3        1   \n",
       "\n",
       "    WeekDay  DiscountDiff  DiscountPerc  \n",
       "0  Saturday           150     10.752688  \n",
       "1  Saturday            33      6.021898  \n",
       "2  Saturday           180     13.186813  \n",
       "3  Saturday           100      2.702703  \n",
       "4  Saturday           150     19.230769  "
      ]
     },
     "execution_count": 3,
     "metadata": {},
     "output_type": "execute_result"
    }
   ],
   "source": [
    "df.head()"
   ]
  },
  {
   "cell_type": "code",
   "execution_count": 4,
   "metadata": {},
   "outputs": [],
   "source": [
    "from sklearn.preprocessing import LabelEncoder\n",
    "lb_make = LabelEncoder()\n",
    "df[\"Snapshot Date\"] = lb_make.fit_transform(df[\"Snapshot Date\"])\n",
    "df[\"Checkin Date\"] = lb_make.fit_transform(df[\"Checkin Date\"])\n",
    "df[\"Hotel Name\"] = lb_make.fit_transform(df[\"Hotel Name\"])\n",
    "df[\"WeekDay\"] = lb_make.fit_transform(df[\"WeekDay\"])\n",
    "df=df[['Snapshot Date','Checkin Date','DayDiff','Hotel Name','WeekDay','Discount Code']].dropna(axis=0, how='any')"
   ]
  },
  {
   "cell_type": "code",
   "execution_count": 5,
   "metadata": {},
   "outputs": [
    {
     "data": {
      "text/html": [
       "<div>\n",
       "<style scoped>\n",
       "    .dataframe tbody tr th:only-of-type {\n",
       "        vertical-align: middle;\n",
       "    }\n",
       "\n",
       "    .dataframe tbody tr th {\n",
       "        vertical-align: top;\n",
       "    }\n",
       "\n",
       "    .dataframe thead th {\n",
       "        text-align: right;\n",
       "    }\n",
       "</style>\n",
       "<table border=\"1\" class=\"dataframe\">\n",
       "  <thead>\n",
       "    <tr style=\"text-align: right;\">\n",
       "      <th></th>\n",
       "      <th>Snapshot Date</th>\n",
       "      <th>Checkin Date</th>\n",
       "      <th>DayDiff</th>\n",
       "      <th>Hotel Name</th>\n",
       "      <th>WeekDay</th>\n",
       "      <th>Discount Code</th>\n",
       "    </tr>\n",
       "  </thead>\n",
       "  <tbody>\n",
       "    <tr>\n",
       "      <th>0</th>\n",
       "      <td>0</td>\n",
       "      <td>0</td>\n",
       "      <td>1</td>\n",
       "      <td>223</td>\n",
       "      <td>2</td>\n",
       "      <td>2</td>\n",
       "    </tr>\n",
       "    <tr>\n",
       "      <th>1</th>\n",
       "      <td>0</td>\n",
       "      <td>0</td>\n",
       "      <td>1</td>\n",
       "      <td>264</td>\n",
       "      <td>2</td>\n",
       "      <td>2</td>\n",
       "    </tr>\n",
       "    <tr>\n",
       "      <th>2</th>\n",
       "      <td>0</td>\n",
       "      <td>0</td>\n",
       "      <td>1</td>\n",
       "      <td>327</td>\n",
       "      <td>2</td>\n",
       "      <td>2</td>\n",
       "    </tr>\n",
       "    <tr>\n",
       "      <th>3</th>\n",
       "      <td>0</td>\n",
       "      <td>0</td>\n",
       "      <td>1</td>\n",
       "      <td>341</td>\n",
       "      <td>2</td>\n",
       "      <td>2</td>\n",
       "    </tr>\n",
       "    <tr>\n",
       "      <th>4</th>\n",
       "      <td>0</td>\n",
       "      <td>0</td>\n",
       "      <td>1</td>\n",
       "      <td>361</td>\n",
       "      <td>2</td>\n",
       "      <td>1</td>\n",
       "    </tr>\n",
       "  </tbody>\n",
       "</table>\n",
       "</div>"
      ],
      "text/plain": [
       "   Snapshot Date  Checkin Date  DayDiff  Hotel Name  WeekDay  Discount Code\n",
       "0              0             0        1         223        2              2\n",
       "1              0             0        1         264        2              2\n",
       "2              0             0        1         327        2              2\n",
       "3              0             0        1         341        2              2\n",
       "4              0             0        1         361        2              1"
      ]
     },
     "execution_count": 5,
     "metadata": {},
     "output_type": "execute_result"
    }
   ],
   "source": [
    "df.head()"
   ]
  },
  {
   "cell_type": "code",
   "execution_count": 6,
   "metadata": {},
   "outputs": [],
   "source": [
    "from sklearn.model_selection import train_test_split"
   ]
  },
  {
   "cell_type": "code",
   "execution_count": 10,
   "metadata": {},
   "outputs": [],
   "source": [
    "# Split dataset in training and test datasets\n",
    "used_features =['Snapshot Date','Checkin Date','DayDiff','Hotel Name','WeekDay']\n",
    "features = df[used_features]\n",
    "classes = df['Discount Code']\n",
    "X_train, X_test, Y_train, Y_test = train_test_split(features,classes, test_size=0.4)"
   ]
  },
  {
   "cell_type": "code",
   "execution_count": 11,
   "metadata": {},
   "outputs": [],
   "source": [
    "from sklearn.naive_bayes import GaussianNB"
   ]
  },
  {
   "cell_type": "code",
   "execution_count": 12,
   "metadata": {},
   "outputs": [
    {
     "data": {
      "text/plain": [
       "GaussianNB(priors=None)"
      ]
     },
     "execution_count": 12,
     "metadata": {},
     "output_type": "execute_result"
    }
   ],
   "source": [
    "# Instantiate the classifier\n",
    "gnb = GaussianNB()\n",
    "# Train classifier\n",
    "gnb.fit(\n",
    "    X_train,\n",
    "    Y_train\n",
    ")"
   ]
  },
  {
   "cell_type": "code",
   "execution_count": 13,
   "metadata": {},
   "outputs": [],
   "source": [
    "expected = Y_test\n",
    "predicted = gnb.predict(X_test)"
   ]
  },
  {
   "cell_type": "code",
   "execution_count": 15,
   "metadata": {},
   "outputs": [
    {
     "name": "stdout",
     "output_type": "stream",
     "text": [
      "             precision    recall  f1-score   support\n",
      "\n",
      "          1       0.30      0.10      0.16     11105\n",
      "          2       0.31      0.71      0.44     13602\n",
      "          3       0.31      0.23      0.26     11459\n",
      "          4       0.00      0.00      0.00      6754\n",
      "\n",
      "avg / total       0.26      0.31      0.25     42920\n",
      "\n",
      "[[1162 8278 1665    0]\n",
      " [1234 9688 2680    0]\n",
      " [ 838 8041 2580    0]\n",
      " [ 603 4871 1280    0]]\n"
     ]
    },
    {
     "name": "stderr",
     "output_type": "stream",
     "text": [
      "C:\\Users\\yahalom\\Anaconda3\\lib\\site-packages\\sklearn\\metrics\\classification.py:1135: UndefinedMetricWarning: Precision and F-score are ill-defined and being set to 0.0 in labels with no predicted samples.\n",
      "  'precision', 'predicted', average, warn_for)\n"
     ]
    }
   ],
   "source": [
    "from sklearn import metrics\n",
    "print(metrics.classification_report(expected, predicted))\n",
    "print(metrics.confusion_matrix(expected, predicted))"
   ]
  },
  {
   "cell_type": "code",
   "execution_count": 22,
   "metadata": {},
   "outputs": [
    {
     "data": {
      "text/plain": [
       "1"
      ]
     },
     "execution_count": 22,
     "metadata": {},
     "output_type": "execute_result"
    }
   ],
   "source": [
    "gnb.predict([[0,0,1,223,2]])[0]"
   ]
  },
  {
   "cell_type": "code",
   "execution_count": 23,
   "metadata": {},
   "outputs": [],
   "source": [
    "from sklearn import tree\n",
    "dt_classifier = tree.DecisionTreeClassifier()\n",
    "dt_classifier = dt_classifier.fit(X_train, Y_train)"
   ]
  },
  {
   "cell_type": "code",
   "execution_count": 26,
   "metadata": {},
   "outputs": [],
   "source": [
    "expected = Y_test\n",
    "predicted = dt_classifier.predict(X_test)"
   ]
  },
  {
   "cell_type": "code",
   "execution_count": 27,
   "metadata": {},
   "outputs": [
    {
     "name": "stdout",
     "output_type": "stream",
     "text": [
      "             precision    recall  f1-score   support\n",
      "\n",
      "          1       0.78      0.77      0.77     11105\n",
      "          2       0.78      0.78      0.78     13602\n",
      "          3       0.76      0.78      0.77     11459\n",
      "          4       0.75      0.74      0.74      6754\n",
      "\n",
      "avg / total       0.77      0.77      0.77     42920\n",
      "\n",
      "[[ 8578  1214   810   503]\n",
      " [ 1209 10587  1293   513]\n",
      " [  760  1158  8888   653]\n",
      " [  516   571   688  4979]]\n"
     ]
    }
   ],
   "source": [
    "print(metrics.classification_report(expected, predicted))\n",
    "print(metrics.confusion_matrix(expected, predicted))"
   ]
  },
  {
   "cell_type": "code",
   "execution_count": null,
   "metadata": {},
   "outputs": [],
   "source": []
  }
 ],
 "metadata": {
  "kernelspec": {
   "display_name": "Python 3",
   "language": "python",
   "name": "python3"
  },
  "language_info": {
   "codemirror_mode": {
    "name": "ipython",
    "version": 3
   },
   "file_extension": ".py",
   "mimetype": "text/x-python",
   "name": "python",
   "nbconvert_exporter": "python",
   "pygments_lexer": "ipython3",
   "version": "3.7.0"
  }
 },
 "nbformat": 4,
 "nbformat_minor": 2
}
